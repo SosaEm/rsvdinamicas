{
 "cells": [
  {
   "cell_type": "code",
   "execution_count": null,
   "metadata": {},
   "outputs": [],
   "source": [
    "import pandas as pd\n",
    "import numpy as np\n",
    "import csv\n",
    "import requests\n",
    "from pwd import credenciales"
   ]
  },
  {
   "cell_type": "code",
   "execution_count": null,
   "metadata": {},
   "outputs": [],
   "source": [
    "data = {\n",
    "    'token': credenciales.get(\"SECRET_KEY\"),\n",
    "    'content': 'report',\n",
    "    'format': 'csv',\n",
    "    'report_id': '114',\n",
    "    'csvDelimiter': ';',\n",
    "    'rawOrLabel': 'raw',\n",
    "    'rawOrLabelHeaders': 'raw',\n",
    "    'exportCheckboxLabel': 'true',\n",
    "    'returnFormat': 'csv'\n",
    "}\n",
    "r = requests.post('https://redcap.infant.org.ar/es/api/',data=data)\n",
    "print('HTTP Status: ' + str(r.status_code))\n",
    "lines = r.text.splitlines()\n",
    "reader = csv.reader(lines)\n",
    "for row in reader:\n",
    "    with open('filiales.csv', 'w', newline='', encoding=\"utf-8\") as csvfile:\n",
    "        spamwriter = csv.writer(csvfile,quotechar=',')\n",
    "        for row in reader:\n",
    "            spamwriter.writerow(row)  \n"
   ]
  },
  {
   "cell_type": "code",
   "execution_count": null,
   "metadata": {},
   "outputs": [],
   "source": [
    "df=pd.read_csv('filiales.csv', sep=';', names=['record','hospital', 'areaprog', 'partido', 'localidad', 'calle','altura', 'entre1', 'entre2', 'cp', 'usuario'])\n",
    "df.head()"
   ]
  },
  {
   "cell_type": "code",
   "execution_count": null,
   "metadata": {},
   "outputs": [],
   "source": [
    "df.info()"
   ]
  },
  {
   "cell_type": "code",
   "execution_count": null,
   "metadata": {},
   "outputs": [],
   "source": [
    "df.drop(['areaprog', 'usuario'],axis=1, inplace=True)\n",
    "df.head()"
   ]
  },
  {
   "cell_type": "code",
   "execution_count": null,
   "metadata": {},
   "outputs": [],
   "source": [
    "df.info()"
   ]
  },
  {
   "cell_type": "code",
   "execution_count": null,
   "metadata": {},
   "outputs": [],
   "source": [
    "df.localidad=df.localidad.str.strip().str.lower().str.replace(\" \", \"_\")\n",
    "df.calle=df.calle.str.strip().str.lower().str.replace(\" \", \"_\")\n",
    "df.entre1=df.entre1.str.strip().str.lower().str.replace(\" \", \"_\")\n",
    "df.entre2=df.entre2.str.strip().str.lower().str.replace(\" \", \"_\")\n",
    "df.head()\n"
   ]
  },
  {
   "cell_type": "code",
   "execution_count": null,
   "metadata": {},
   "outputs": [],
   "source": [
    "df['localidad'] = df.localidad.str.replace(r'\\b_$', '', regex=True).str.strip()\n",
    "df['calle'] = df.calle.str.replace(r'\\b_$', '', regex=True).str.strip()\n",
    "df['entre1'] = df.entre1.str.replace(r'\\b_$', '', regex=True).str.strip()\n",
    "df['entre2'] = df.entre2.str.replace(r'\\b_$', '', regex=True).str.strip()"
   ]
  },
  {
   "cell_type": "code",
   "execution_count": null,
   "metadata": {},
   "outputs": [],
   "source": [
    "df.info()"
   ]
  },
  {
   "cell_type": "code",
   "execution_count": null,
   "metadata": {},
   "outputs": [],
   "source": [
    "#pd.set_option('display.max_rows', None)"
   ]
  },
  {
   "cell_type": "code",
   "execution_count": null,
   "metadata": {},
   "outputs": [],
   "source": [
    "df.localidad.value_counts()"
   ]
  },
  {
   "cell_type": "code",
   "execution_count": null,
   "metadata": {},
   "outputs": [],
   "source": [
    "sorted(dict(df.localidad.value_counts()).items())"
   ]
  },
  {
   "cell_type": "code",
   "execution_count": null,
   "metadata": {},
   "outputs": [],
   "source": [
    "df.calle.value_counts()"
   ]
  },
  {
   "cell_type": "code",
   "execution_count": null,
   "metadata": {},
   "outputs": [],
   "source": [
    "sorted(dict(df.calle.value_counts()).items())"
   ]
  },
  {
   "cell_type": "code",
   "execution_count": null,
   "metadata": {},
   "outputs": [],
   "source": [
    "df_laplata = df.loc[df[\"partido\"]==66.0]"
   ]
  },
  {
   "cell_type": "code",
   "execution_count": null,
   "metadata": {},
   "outputs": [],
   "source": [
    "df_laplata"
   ]
  },
  {
   "cell_type": "code",
   "execution_count": null,
   "metadata": {},
   "outputs": [],
   "source": [
    "sorted(dict(df_laplata.localidad.value_counts()).items())"
   ]
  },
  {
   "cell_type": "code",
   "execution_count": null,
   "metadata": {},
   "outputs": [],
   "source": [
    "df_laplata.localidad.value_counts()"
   ]
  },
  {
   "cell_type": "code",
   "execution_count": null,
   "metadata": {},
   "outputs": [],
   "source": [
    "df_laplata.localidad.value_counts().plot.bar()"
   ]
  }
 ],
 "metadata": {
  "kernelspec": {
   "display_name": "Python 3.10.6 64-bit",
   "language": "python",
   "name": "python3"
  },
  "language_info": {
   "codemirror_mode": {
    "name": "ipython",
    "version": 3
   },
   "file_extension": ".py",
   "mimetype": "text/x-python",
   "name": "python",
   "nbconvert_exporter": "python",
   "pygments_lexer": "ipython3",
   "version": "3.10.6"
  },
  "orig_nbformat": 4,
  "vscode": {
   "interpreter": {
    "hash": "9c0e0f3411b17d338b34324f930055363b2ce577eb0084f644a8756b79c6709e"
   }
  }
 },
 "nbformat": 4,
 "nbformat_minor": 2
}
